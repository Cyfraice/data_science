{
 "cells": [
  {
   "cell_type": "code",
   "execution_count": 591,
   "outputs": [],
   "source": [
    "import numpy as np #importo la libreria numpy\n",
    "from numpy import random\n",
    "from numpy.random import default_rng"
   ],
   "metadata": {
    "collapsed": false,
    "ExecuteTime": {
     "end_time": "2023-10-21T13:35:14.717359Z",
     "start_time": "2023-10-21T13:35:14.708835900Z"
    }
   },
   "id": "c8945fd309c3037f"
  },
  {
   "cell_type": "code",
   "execution_count": 526,
   "outputs": [],
   "source": [
    "import matplotlib.pyplot as plt\n",
    "%matplotlib inline"
   ],
   "metadata": {
    "collapsed": false,
    "ExecuteTime": {
     "end_time": "2023-10-21T12:51:24.904499700Z",
     "start_time": "2023-10-21T12:51:24.875531500Z"
    }
   },
   "id": "b90b59772a25cbd7"
  },
  {
   "cell_type": "code",
   "execution_count": 109,
   "outputs": [
    {
     "data": {
      "text/plain": "(4,)"
     },
     "execution_count": 109,
     "metadata": {},
     "output_type": "execute_result"
    }
   ],
   "source": [
    "arr = np.array([1, 2, 3, 4]) #utilizzo la funzione \"array\" per creare un array (di una dimensione) con quattro elementi\n",
    "arr.shape"
   ],
   "metadata": {
    "collapsed": false
   },
   "id": "initial_id"
  },
  {
   "cell_type": "code",
   "execution_count": 106,
   "outputs": [
    {
     "data": {
      "text/plain": "array([1, 2, 3, 4])"
     },
     "execution_count": 106,
     "metadata": {},
     "output_type": "execute_result"
    }
   ],
   "source": [
    "arr"
   ],
   "metadata": {
    "collapsed": false,
    "ExecuteTime": {
     "end_time": "2023-10-20T15:00:26.275067800Z",
     "start_time": "2023-10-20T15:00:26.251777800Z"
    }
   },
   "id": "e5134a4c8781bc6a"
  },
  {
   "cell_type": "code",
   "execution_count": 129,
   "outputs": [
    {
     "data": {
      "text/plain": "(1, 4)"
     },
     "execution_count": 129,
     "metadata": {},
     "output_type": "execute_result"
    }
   ],
   "source": [
    "arrm = np.array([1, 2, 3, 4], ndmin=2) # il metodo \"ndmin\" con valore 2 aggiunge una seconda dimensione (ponendo l'array specificato in un altro array)\n",
    "\n",
    "arrm.shape #il valore uno identifica gli elementi della prima dimensione, il valore 4, quelli della seconda dimenzione"
   ],
   "metadata": {
    "collapsed": false,
    "ExecuteTime": {
     "end_time": "2023-10-21T09:11:15.241994600Z",
     "start_time": "2023-10-21T09:11:15.230685700Z"
    }
   },
   "id": "8f542d22ab9e1404"
  },
  {
   "cell_type": "code",
   "execution_count": 130,
   "outputs": [
    {
     "data": {
      "text/plain": "array([[1, 2, 3, 4]])"
     },
     "execution_count": 130,
     "metadata": {},
     "output_type": "execute_result"
    }
   ],
   "source": [
    "arrm "
   ],
   "metadata": {
    "collapsed": false,
    "ExecuteTime": {
     "end_time": "2023-10-21T09:11:48.598665200Z",
     "start_time": "2023-10-21T09:11:48.563254500Z"
    }
   },
   "id": "5ee39ed22b3a0499"
  },
  {
   "cell_type": "code",
   "execution_count": 305,
   "outputs": [
    {
     "data": {
      "text/plain": "array([[2, 3, 4, 5]])"
     },
     "execution_count": 305,
     "metadata": {},
     "output_type": "execute_result"
    }
   ],
   "source": [
    "arr3 = np.array([[2,3,4,5]]) #genera quattro colonne (numero elementi array) contenute in un elemento\n",
    "arr3"
   ],
   "metadata": {
    "collapsed": false,
    "ExecuteTime": {
     "end_time": "2023-10-21T11:02:35.150899700Z",
     "start_time": "2023-10-21T11:02:35.125625400Z"
    }
   },
   "id": "ba56cc00d63c2d67"
  },
  {
   "cell_type": "code",
   "execution_count": 133,
   "outputs": [
    {
     "data": {
      "text/plain": "(3, 5, 4)"
     },
     "execution_count": 133,
     "metadata": {},
     "output_type": "execute_result"
    }
   ],
   "source": [
    "arr2 = np.array([[[2,3,4,5],\n",
    "                  [2,3,4,5],\n",
    "                  [2,3,4,5],\n",
    "                  [2,3,4,5],\n",
    "                  [2,3,4,5]],\n",
    "                 [[2,3,4,5],\n",
    "                  [2,3,4,5],\n",
    "                  [2,3,4,5],\n",
    "                  [2,3,4,5],\n",
    "                  [2,3,4,5]]\n",
    "                ,[[2,3,4,5],\n",
    "                  [2,3,4,5],\n",
    "                  [2,3,4,5],\n",
    "                  [2,3,4,5],\n",
    "                  [2,3,4,5]]])\n",
    "\n",
    "arr2.shape #tre dimensioni con 3,4 e 5 elementi"
   ],
   "metadata": {
    "collapsed": false,
    "ExecuteTime": {
     "end_time": "2023-10-21T09:14:38.138536800Z",
     "start_time": "2023-10-21T09:14:38.124092200Z"
    }
   },
   "id": "e6c9ba9b6ff71e10"
  },
  {
   "cell_type": "code",
   "execution_count": 119,
   "outputs": [
    {
     "data": {
      "text/plain": "array([[[2, 3, 4, 5],\n        [2, 3, 4, 5],\n        [2, 3, 4, 5],\n        [2, 3, 4, 5],\n        [2, 3, 4, 5]],\n\n       [[2, 3, 4, 5],\n        [2, 3, 4, 5],\n        [2, 3, 4, 5],\n        [2, 3, 4, 5],\n        [2, 3, 4, 5]],\n\n       [[2, 3, 4, 5],\n        [2, 3, 4, 5],\n        [2, 3, 4, 5],\n        [2, 3, 4, 5],\n        [2, 3, 4, 5]]])"
     },
     "execution_count": 119,
     "metadata": {},
     "output_type": "execute_result"
    }
   ],
   "source": [
    "arr2"
   ],
   "metadata": {
    "collapsed": false,
    "ExecuteTime": {
     "end_time": "2023-10-20T15:08:49.440564900Z",
     "start_time": "2023-10-20T15:08:49.431062500Z"
    }
   },
   "id": "24bb471a5715ee36"
  },
  {
   "cell_type": "code",
   "execution_count": 149,
   "outputs": [
    {
     "data": {
      "text/plain": "array([[b'2', b'3', b'4', b'5'],\n       [b'6', b'7', b'8', b'9']], dtype='|S1')"
     },
     "execution_count": 149,
     "metadata": {},
     "output_type": "execute_result"
    }
   ],
   "source": [
    "arr3 = np.array([[2,3,4,5],[6,7,8,9]],dtype=\"S\") #converto i valori da interi e stringhe \n",
    "arr3"
   ],
   "metadata": {
    "collapsed": false,
    "ExecuteTime": {
     "end_time": "2023-10-21T09:19:45.773145800Z",
     "start_time": "2023-10-21T09:19:45.763564400Z"
    }
   },
   "id": "35676a310b1a7bd3"
  },
  {
   "cell_type": "code",
   "execution_count": 171,
   "outputs": [
    {
     "data": {
      "text/plain": "array([[[ 1,  1,  5,  5,  9,  9],\n        [ 2,  2,  6,  6, 10, 10]],\n\n       [[ 3,  3,  7,  7, 11, 11],\n        [ 4,  4,  8,  8, 12, 12]]])"
     },
     "execution_count": 171,
     "metadata": {},
     "output_type": "execute_result"
    }
   ],
   "source": [
    "arr1 = np.array([[[1,1], [2,2]],\n",
    "                 [[3,3], [4,4]]])\n",
    "\n",
    "arr2 = np.array([[[5,5], [6,6]],\n",
    "                 [[7,7], [8,8]]])\n",
    "\n",
    "arr3 = np.array([[[9,9],[10,10]],\n",
    "                 [[11,11],[12,12]]])\n",
    "\n",
    "arr = np.concatenate((arr1, arr2,arr3), axis=2) #concateno due array sul primo asse\n",
    "\n",
    "arr\n"
   ],
   "metadata": {
    "collapsed": false,
    "ExecuteTime": {
     "end_time": "2023-10-21T09:24:26.659158100Z",
     "start_time": "2023-10-21T09:24:26.652570300Z"
    }
   },
   "id": "9e541785f095229"
  },
  {
   "cell_type": "code",
   "execution_count": 206,
   "outputs": [
    {
     "data": {
      "text/plain": "<matplotlib.image.AxesImage at 0x294ba2e5390>"
     },
     "execution_count": 206,
     "metadata": {},
     "output_type": "execute_result"
    },
    {
     "data": {
      "text/plain": "<Figure size 640x480 with 1 Axes>",
      "image/png": "[encoded data removed]"
     },
     "metadata": {},
     "output_type": "display_data"
    }
   ],
   "source": [
    "im = plt.imread('q.jpg') #leggo un'immagine con matplotlib\n",
    "plt.imshow(im) #la mostro a schermo"
   ],
   "metadata": {
    "collapsed": false,
    "ExecuteTime": {
     "end_time": "2023-10-21T10:20:22.702529900Z",
     "start_time": "2023-10-21T10:20:22.493131500Z"
    }
   },
   "id": "abd6bba05c9024be"
  },
  {
   "cell_type": "code",
   "execution_count": 306,
   "outputs": [
    {
     "data": {
      "text/plain": "(320, 320, 3)"
     },
     "execution_count": 306,
     "metadata": {},
     "output_type": "execute_result"
    }
   ],
   "source": [
    "im.shape #l'immagine è un array a tre dimensioni"
   ],
   "metadata": {
    "collapsed": false,
    "ExecuteTime": {
     "end_time": "2023-10-21T11:04:03.342577100Z",
     "start_time": "2023-10-21T11:04:03.327571400Z"
    }
   },
   "id": "9660a8609b4dbbb9"
  },
  {
   "cell_type": "code",
   "execution_count": 308,
   "outputs": [
    {
     "data": {
      "text/plain": "array([[[246, 246, 246],\n        [246, 246, 246],\n        [246, 246, 246],\n        ...,\n        [246, 246, 246],\n        [246, 246, 246],\n        [246, 246, 246]],\n\n       [[246, 246, 246],\n        [246, 246, 246],\n        [246, 246, 246],\n        ...,\n        [246, 246, 246],\n        [246, 246, 246],\n        [246, 246, 246]],\n\n       [[246, 246, 246],\n        [246, 246, 246],\n        [246, 246, 246],\n        ...,\n        [246, 246, 246],\n        [246, 246, 246],\n        [246, 246, 246]],\n\n       ...,\n\n       [[246, 246, 246],\n        [246, 246, 246],\n        [246, 246, 246],\n        ...,\n        [246, 246, 246],\n        [246, 246, 246],\n        [246, 246, 246]],\n\n       [[246, 246, 246],\n        [246, 246, 246],\n        [246, 246, 246],\n        ...,\n        [246, 246, 246],\n        [246, 246, 246],\n        [246, 246, 246]],\n\n       [[246, 246, 246],\n        [246, 246, 246],\n        [246, 246, 246],\n        ...,\n        [246, 246, 246],\n        [246, 246, 246],\n        [246, 246, 246]]], dtype=uint8)"
     },
     "execution_count": 308,
     "metadata": {},
     "output_type": "execute_result"
    }
   ],
   "source": [
    "im #i valori rappresentano il colore dei pixel secondo il formato rgb"
   ],
   "metadata": {
    "collapsed": false,
    "ExecuteTime": {
     "end_time": "2023-10-21T11:05:54.487197900Z",
     "start_time": "2023-10-21T11:05:54.471668400Z"
    }
   },
   "id": "f726c90325c67017"
  },
  {
   "cell_type": "code",
   "execution_count": 357,
   "outputs": [
    {
     "data": {
      "text/plain": "320"
     },
     "execution_count": 357,
     "metadata": {},
     "output_type": "execute_result"
    }
   ],
   "source": [
    "len(im) #equivalgono all'asse y dei pixel"
   ],
   "metadata": {
    "collapsed": false,
    "ExecuteTime": {
     "end_time": "2023-10-21T11:25:34.407436500Z",
     "start_time": "2023-10-21T11:25:34.393018100Z"
    }
   },
   "id": "a9c88c9d251276e1"
  },
  {
   "cell_type": "code",
   "execution_count": 415,
   "outputs": [
    {
     "data": {
      "text/plain": "(320, 320)"
     },
     "execution_count": 415,
     "metadata": {},
     "output_type": "execute_result"
    }
   ],
   "source": [
    "ud=im.T[0] #prendo la prima riga dell'array (corrispondente alla prima dimensione dell'immagine)\n",
    "ud.shape #ottengo la dimensione dell'array (equivalgono ad altezza e lunghezza dell'immagine)"
   ],
   "metadata": {
    "collapsed": false,
    "ExecuteTime": {
     "end_time": "2023-10-21T11:57:58.220070500Z",
     "start_time": "2023-10-21T11:57:58.211183800Z"
    }
   },
   "id": "4f36ffc81b280c10"
  },
  {
   "cell_type": "code",
   "execution_count": 447,
   "outputs": [
    {
     "data": {
      "text/plain": "array([[246, 246, 246, 246, 246, 246, 246, 246, 246, 246, 246, 246, 246,\n        246, 246, 246, 246, 246, 246],\n       [246, 246, 246, 246, 246, 246, 246, 246, 246, 246, 246, 246, 246,\n        246, 246, 246, 246, 246, 246],\n       [246, 246, 241, 249, 242, 245, 246, 245, 244, 248, 248, 248, 248,\n        248, 248, 248, 248, 248, 248],\n       [246, 246, 239, 255, 225, 239, 241, 235, 230, 231, 234, 234, 234,\n        234, 234, 234, 234, 234, 234],\n       [246, 246, 251, 215,  36,   8,   9,  14,  15,  12,  14,  14,  14,\n         14,  14,  14,  14,  14,  14],\n       [246, 246, 244, 233,  16,   0,   0,   0,   0,   1,   0,   0,   0,\n          0,   0,   0,   0,   0,   0],\n       [246, 246, 240, 242,   9,   1,   1,   0,   0,   0,   1,   1,   1,\n          1,   1,   1,   1,   1,   1],\n       [246, 246, 249, 240,   3,   0,   6,   2,   1,   0,   0,   0,   0,\n          0,   0,   0,   0,   0,   0],\n       [246, 246, 238, 232,  19,   0,   0,   0,   1,   9,   1,   1,   1,\n          1,   1,   1,   1,   1,   1],\n       [246, 246, 252, 225,  15,   0,   5,   4,   5,   0,   0,   0,   0,\n          0,   0,   0,   0,   0,   0],\n       [246, 246, 247, 236,  13,   1,   0,   1,   0,   1,   0,   1,   5,\n          4,   0,   0,   2,   0,   1],\n       [246, 246, 247, 236,  13,   1,   0,   1,   0,   1,   6,   0,   0,\n          0,   7,   4,   0,   0,   1],\n       [246, 246, 247, 236,  13,   1,   0,   1,   0,   1,   0,   0,   3,\n          0,   5,   0,   0,   3,   2],\n       [246, 246, 247, 236,  13,   1,   0,   1,   0,   1,   0,   5,   5,\n          0,  12,   6,   7,  16,   9],\n       [246, 246, 247, 236,  13,   1,   0,   1,   0,   1,   1,   1,   0,\n         12, 124, 174, 178, 172, 179],\n       [246, 246, 247, 236,  13,   1,   0,   1,   0,   1,   2,   0,   0,\n         13, 171, 247, 250, 237, 241],\n       [246, 246, 247, 236,  13,   1,   0,   1,   0,   1,   0,   0,   0,\n         11, 173, 242, 248, 248, 247],\n       [246, 246, 247, 236,  13,   1,   0,   1,   0,   1,   0,   0,   0,\n          9, 179, 243, 243, 245, 246],\n       [246, 246, 247, 236,  13,   1,   0,   1,   0,   1,   2,   0,   0,\n          9, 179, 245, 244, 246, 246]], dtype=uint8)"
     },
     "execution_count": 447,
     "metadata": {},
     "output_type": "execute_result"
    }
   ],
   "source": [
    "ud[6:25,6:25] #ottengo la matrice dei pixel che compongono l'immagine (nel punto equivalente al vertice del quadrato)"
   ],
   "metadata": {
    "collapsed": false,
    "ExecuteTime": {
     "end_time": "2023-10-21T12:07:36.530396200Z",
     "start_time": "2023-10-21T12:07:36.525203200Z"
    }
   },
   "id": "9f94ba857d283d6a"
  },
  {
   "cell_type": "code",
   "execution_count": 451,
   "outputs": [
    {
     "data": {
      "text/plain": "array([1], dtype=uint8)"
     },
     "execution_count": 451,
     "metadata": {},
     "output_type": "execute_result"
    }
   ],
   "source": [
    "ad=ud[16,31] #seleziono l'array in posizione x=100, y=300\n",
    "a=ad[ad < 200] #vedo se il valore è minore di 200 (quindi cerco i pixel scuri)\n",
    "a"
   ],
   "metadata": {
    "collapsed": false,
    "ExecuteTime": {
     "end_time": "2023-10-21T12:10:50.742721800Z",
     "start_time": "2023-10-21T12:10:50.734371200Z"
    }
   },
   "id": "7055b226906c82c"
  },
  {
   "cell_type": "code",
   "execution_count": 524,
   "outputs": [
    {
     "data": {
      "text/plain": "12160"
     },
     "execution_count": 524,
     "metadata": {},
     "output_type": "execute_result"
    }
   ],
   "source": [
    "#come per l'esempio di sopra, ciclo i valori della matrice trasposta e salvo i valori di quelli minori di 200 in un array\n",
    "ne=[]\n",
    "\n",
    "for y in ud:\n",
    "    \n",
    "    for x in y:\n",
    "            if x<200:\n",
    "                ne.append(x)\n",
    "\n",
    "len(ne) #nell'immagine ci sono 12160 pixel scuri"
   ],
   "metadata": {
    "collapsed": false,
    "ExecuteTime": {
     "end_time": "2023-10-21T12:48:10.734867900Z",
     "start_time": "2023-10-21T12:48:10.556011700Z"
    }
   },
   "id": "a8c2c7543b9ad8d"
  },
  {
   "cell_type": "code",
   "execution_count": 525,
   "outputs": [
    {
     "data": {
      "text/plain": "12160"
     },
     "execution_count": 525,
     "metadata": {},
     "output_type": "execute_result"
    }
   ],
   "source": [
    "#ottengo lo stesso risultato con nditer\n",
    "ne=[]\n",
    "\n",
    "for x in np.nditer(ud):\n",
    "    if x<200:\n",
    "        ne.append(x)\n",
    "len(ne)"
   ],
   "metadata": {
    "collapsed": false,
    "ExecuteTime": {
     "end_time": "2023-10-21T12:48:37.317207900Z",
     "start_time": "2023-10-21T12:48:37.155595700Z"
    }
   },
   "id": "ccae2e21da5fa00"
  },
  {
   "cell_type": "code",
   "execution_count": 625,
   "outputs": [
    {
     "data": {
      "text/plain": "array([ 1,  0,  1, ..., 14,  9,  1], dtype=uint8)"
     },
     "execution_count": 625,
     "metadata": {},
     "output_type": "execute_result"
    }
   ],
   "source": [
    "ne.sort() #ordino l'array in modo ascendente\n",
    "one = np.asarray(ne) #converto la lista in un oggetto ndarray\n",
    "random.shuffle(one) #riordino i valori in maniera casuale\n",
    "one"
   ],
   "metadata": {
    "collapsed": false,
    "ExecuteTime": {
     "end_time": "2023-10-21T13:46:54.181852Z",
     "start_time": "2023-10-21T13:46:54.175116900Z"
    }
   },
   "id": "b734ee00aa972a29"
  },
  {
   "cell_type": "code",
   "execution_count": 630,
   "outputs": [
    {
     "data": {
      "text/plain": "(6080,)"
     },
     "execution_count": 630,
     "metadata": {},
     "output_type": "execute_result"
    }
   ],
   "source": [
    "ones=np.array_split(one,2) #lo divido in due array\n",
    "\n",
    "onesi,oneso=ones #estraggo i due elementi e li salvo in due variabili\n",
    "\n",
    "onesi.shape"
   ],
   "metadata": {
    "collapsed": false,
    "ExecuteTime": {
     "end_time": "2023-10-21T13:49:03.611760800Z",
     "start_time": "2023-10-21T13:49:03.600384800Z"
    }
   },
   "id": "dc8155969ca0f5db"
  },
  {
   "cell_type": "code",
   "execution_count": 652,
   "outputs": [
    {
     "data": {
      "text/plain": "(2, 6272)"
     },
     "execution_count": 652,
     "metadata": {},
     "output_type": "execute_result"
    }
   ],
   "source": [
    "al=np.arange(384) #creo un array con 384 elementi\n",
    "\n",
    "con=np.concatenate([onesi,oneso,al]) #aggiungo 384 elementi per ottenere un numero di elementi pari al quadrato di 112\n",
    "\n",
    "im2=np.array_split(con,2)\n",
    "aim2=np.asarray(im2)\n",
    "aim2.shape\n",
    "\n"
   ],
   "metadata": {
    "collapsed": false,
    "ExecuteTime": {
     "end_time": "2023-10-21T14:00:00.839118700Z",
     "start_time": "2023-10-21T14:00:00.815857Z"
    }
   },
   "id": "cab619b43008ddb2"
  },
  {
   "cell_type": "code",
   "execution_count": 669,
   "outputs": [
    {
     "data": {
      "text/plain": "array([[0.95033308, 0.05203305, 0.81120732, 0.98493765, 0.5238413 ,\n        0.37527817, 0.78844911, 0.46443787, 0.13847427, 0.32495483,\n        0.32575228, 0.8757548 , 0.28031613, 0.26732438, 0.99933756,\n        0.66730106, 0.78806172, 0.97633681, 0.50657284, 0.35934752,\n        0.16335529, 0.92275168, 0.95173587, 0.90033908, 0.1489787 ,\n        0.54831192, 0.80527924, 0.73134628, 0.63987182, 0.0026451 ],\n       [0.69756516, 0.69572455, 0.72383072, 0.39634776, 0.97205181,\n        0.0722636 , 0.22658074, 0.51665021, 0.41316269, 0.51075813,\n        0.63575384, 0.07269773, 0.1930777 , 0.90460304, 0.95024972,\n        0.97147602, 0.55181653, 0.82038513, 0.32934297, 0.7559335 ,\n        0.13681802, 0.73745513, 0.99506307, 0.06431086, 0.43527599,\n        0.61116939, 0.64620902, 0.01725224, 0.70368751, 0.57327193],\n       [0.72065707, 0.33964368, 0.76035755, 0.71003872, 0.11243573,\n        0.12679207, 0.32993948, 0.24628445, 0.10816598, 0.95012608,\n        0.95715897, 0.72608391, 0.35009098, 0.60444807, 0.68503771,\n        0.00226459, 0.29895797, 0.06535914, 0.66488901, 0.56635223,\n        0.06184176, 0.58200224, 0.18096732, 0.52668648, 0.30206254,\n        0.61915861, 0.93932348, 0.41731926, 0.59090719, 0.78932289],\n       [0.37777973, 0.48132379, 0.23080731, 0.14761196, 0.72354246,\n        0.84988105, 0.84496304, 0.66419592, 0.33151917, 0.97009972,\n        0.03426662, 0.73645696, 0.23118593, 0.11442142, 0.85266346,\n        0.58412917, 0.60569337, 0.73837213, 0.67851473, 0.25349982,\n        0.63899164, 0.69957796, 0.11038395, 0.48750908, 0.35669721,\n        0.17463325, 0.67459559, 0.50926494, 0.97251525, 0.29498357],\n       [0.50411517, 0.48322369, 0.63114456, 0.97515918, 0.44328835,\n        0.58859078, 0.92868818, 0.1302216 , 0.45919977, 0.53151658,\n        0.21964168, 0.28513982, 0.86293751, 0.68252879, 0.16313652,\n        0.73498177, 0.19782395, 0.78857482, 0.22731025, 0.576682  ,\n        0.51994142, 0.87339977, 0.1136435 , 0.01450693, 0.12023821,\n        0.90340542, 0.95325842, 0.82335389, 0.78671213, 0.80054554],\n       [0.18615946, 0.96681925, 0.26192238, 0.57792948, 0.15095401,\n        0.01406681, 0.8687998 , 0.38474824, 0.64908339, 0.65181169,\n        0.49704228, 0.60020386, 0.45256279, 0.30137439, 0.08662691,\n        0.78848666, 0.12423526, 0.68099109, 0.30175907, 0.18143695,\n        0.19464941, 0.79527084, 0.0662267 , 0.2337339 , 0.33392068,\n        0.2865696 , 0.47365657, 0.57136958, 0.1109963 , 0.15303705],\n       [0.76066248, 0.48560896, 0.88533318, 0.80649284, 0.1097758 ,\n        0.87723679, 0.86307933, 0.18295614, 0.27474191, 0.29615392,\n        0.89813435, 0.6863186 , 0.99833555, 0.4435664 , 0.66742194,\n        0.44115526, 0.82107994, 0.97879671, 0.33898536, 0.40539092,\n        0.87565837, 0.28849241, 0.95055001, 0.22579835, 0.02729576,\n        0.68998915, 0.45524242, 0.34576601, 0.27662606, 0.22768679],\n       [0.05430924, 0.65295561, 0.48453099, 0.40971591, 0.54776551,\n        0.59501798, 0.66902797, 0.44402663, 0.43144364, 0.48801414,\n        0.91116849, 0.11922355, 0.09528785, 0.17343163, 0.84531845,\n        0.25195879, 0.46577894, 0.41811601, 0.32074899, 0.95371487,\n        0.69162099, 0.95715024, 0.45674263, 0.96872644, 0.32698588,\n        0.80625215, 0.61619363, 0.29630791, 0.54170059, 0.87273891],\n       [0.82328399, 0.0336125 , 0.2312419 , 0.69511562, 0.66122705,\n        0.70417721, 0.41582115, 0.77845   , 0.73288104, 0.32543773,\n        0.49574068, 0.2059592 , 0.36370544, 0.78398307, 0.96825161,\n        0.65618473, 0.03982867, 0.71009207, 0.42977997, 0.81651867,\n        0.78230027, 0.71402573, 0.88006869, 0.49605915, 0.21837216,\n        0.24227263, 0.20074873, 0.05393356, 0.95771813, 0.38215762],\n       [0.41881568, 0.4868519 , 0.716813  , 0.55528789, 0.45211979,\n        0.17978826, 0.57821627, 0.49144712, 0.19575618, 0.36825521,\n        0.31731247, 0.52919522, 0.93094347, 0.32651826, 0.43577412,\n        0.68366324, 0.29375646, 0.70591796, 0.07378279, 0.9609465 ,\n        0.15709378, 0.05354502, 0.54422322, 0.59562343, 0.52204474,\n        0.27377149, 0.31425057, 0.8332954 , 0.6787501 , 0.2374699 ],\n       [0.89347637, 0.22768548, 0.22740518, 0.44544246, 0.80269846,\n        0.39998851, 0.18596174, 0.84686061, 0.3258178 , 0.00132566,\n        0.95297841, 0.4354514 , 0.71179806, 0.25445646, 0.46077405,\n        0.49885386, 0.20756143, 0.17727117, 0.35374891, 0.70727268,\n        0.67526564, 0.91574195, 0.79936476, 0.63098364, 0.31240564,\n        0.72341879, 0.90028799, 0.87538561, 0.93659466, 0.58754036],\n       [0.73190073, 0.86890151, 0.48192713, 0.55622209, 0.18976865,\n        0.24784976, 0.38235083, 0.93534929, 0.34644887, 0.88559488,\n        0.38234895, 0.70006245, 0.16426664, 0.77868327, 0.755785  ,\n        0.48590648, 0.15967567, 0.8542711 , 0.42302403, 0.46584239,\n        0.15915852, 0.18196778, 0.09448725, 0.24198623, 0.07694585,\n        0.0872674 , 0.2083668 , 0.20454136, 0.47125271, 0.4932695 ],\n       [0.83927323, 0.45581047, 0.80026383, 0.90207168, 0.65766816,\n        0.10863111, 0.29817448, 0.8903769 , 0.53491768, 0.96081311,\n        0.1396579 , 0.81439073, 0.43017564, 0.98576545, 0.50918584,\n        0.94323141, 0.71238013, 0.7464022 , 0.56852789, 0.32482647,\n        0.09979431, 0.51899442, 0.72639673, 0.0323239 , 0.60482357,\n        0.1760793 , 0.63593803, 0.40784907, 0.41834434, 0.47071521],\n       [0.12083432, 0.88916865, 0.92770917, 0.78206325, 0.46124629,\n        0.15365427, 0.46057101, 0.49977808, 0.71670383, 0.25319059,\n        0.23345623, 0.13235815, 0.10052859, 0.54720446, 0.66271456,\n        0.51064916, 0.25684579, 0.48929841, 0.71684632, 0.51423175,\n        0.57666636, 0.20560297, 0.06333425, 0.38002565, 0.03601788,\n        0.30217953, 0.16436837, 0.05538394, 0.24534763, 0.41134334],\n       [0.34918031, 0.37950068, 0.92882949, 0.43600295, 0.91111149,\n        0.31492583, 0.94988484, 0.16106909, 0.02821832, 0.99422984,\n        0.65305519, 0.70262135, 0.26265725, 0.90115129, 0.33003268,\n        0.37438876, 0.26344688, 0.07248193, 0.53660885, 0.86332938,\n        0.47328489, 0.58557403, 0.90554424, 0.51399907, 0.33262937,\n        0.93745796, 0.12116186, 0.84909613, 0.77004438, 0.45768666],\n       [0.86562855, 0.87106064, 0.99419631, 0.32707228, 0.13497293,\n        0.7188386 , 0.51860761, 0.21202212, 0.19374441, 0.37906661,\n        0.94419763, 0.98236635, 0.88741456, 0.57372255, 0.88472666,\n        0.20381536, 0.12584858, 0.95836125, 0.93596648, 0.17882461,\n        0.31190481, 0.43343379, 0.96766779, 0.55099625, 0.42147805,\n        0.71234556, 0.3043735 , 0.81200362, 0.82454651, 0.2584363 ],\n       [0.69929659, 0.31647082, 0.88578827, 0.21274108, 0.53090924,\n        0.69697192, 0.15834863, 0.90939125, 0.87651146, 0.11142155,\n        0.95231986, 0.65631737, 0.37096296, 0.47339952, 0.37569454,\n        0.97977016, 0.37682772, 0.26715921, 0.22551548, 0.18456654,\n        0.16192214, 0.28996631, 0.14815696, 0.21527586, 0.1649283 ,\n        0.64480987, 0.09778386, 0.97691487, 0.27017567, 0.06769978],\n       [0.72452483, 0.52716848, 0.34534663, 0.4935256 , 0.94469494,\n        0.45725348, 0.19989836, 0.49440127, 0.65085145, 0.81095872,\n        0.9333013 , 0.69765346, 0.8462712 , 0.26012751, 0.56051213,\n        0.95815429, 0.95777713, 0.48840534, 0.48467641, 0.3733084 ,\n        0.86113021, 0.07350785, 0.0723539 , 0.63544553, 0.70033411,\n        0.73584863, 0.43361579, 0.25514892, 0.49970614, 0.7373518 ],\n       [0.1237437 , 0.60128046, 0.60352612, 0.9168003 , 0.82873474,\n        0.60679124, 0.93098549, 0.87186089, 0.44771179, 0.11875083,\n        0.48244976, 0.82912209, 0.92005035, 0.59562782, 0.46041321,\n        0.31348593, 0.27361506, 0.63248526, 0.54832746, 0.37556165,\n        0.05504093, 0.02252533, 0.55452115, 0.60571716, 0.74030008,\n        0.84476959, 0.04808471, 0.94445913, 0.98711655, 0.08131855],\n       [0.00487311, 0.36398754, 0.40724073, 0.01990826, 0.88323951,\n        0.5584351 , 0.446826  , 0.78650589, 0.37058016, 0.99436544,\n        0.78822046, 0.67939997, 0.6771483 , 0.24954354, 0.58674736,\n        0.25500509, 0.13413164, 0.68076439, 0.4479913 , 0.88785335,\n        0.30249822, 0.55274282, 0.82142026, 0.6921022 , 0.58181274,\n        0.94361446, 0.09638754, 0.83239406, 0.08065663, 0.1622217 ],\n       [0.33771034, 0.67179108, 0.09292576, 0.75189115, 0.24650026,\n        0.175217  , 0.38206647, 0.17099958, 0.96909068, 0.87688095,\n        0.63746181, 0.05580068, 0.98079089, 0.79872915, 0.86618375,\n        0.82245979, 0.75234158, 0.13471223, 0.38566689, 0.63053238,\n        0.61631223, 0.56721354, 0.95951396, 0.13357867, 0.64616917,\n        0.96171792, 0.72485419, 0.07803352, 0.04996809, 0.53152447],\n       [0.68027248, 0.05546726, 0.5722411 , 0.25105682, 0.07137508,\n        0.82389899, 0.74158686, 0.49719445, 0.05541959, 0.59079821,\n        0.35131177, 0.06707439, 0.63867222, 0.23310326, 0.4014773 ,\n        0.20851876, 0.89949843, 0.33561553, 0.24443326, 0.55619769,\n        0.2176418 , 0.11483029, 0.19467446, 0.6277587 , 0.10616803,\n        0.83349716, 0.98968292, 0.71851048, 0.24774932, 0.73371721],\n       [0.99278024, 0.05657659, 0.09292132, 0.12849363, 0.56944051,\n        0.15527235, 0.26131176, 0.365552  , 0.74092874, 0.48600997,\n        0.09982295, 0.96831494, 0.38742676, 0.52065652, 0.05812581,\n        0.05490567, 0.49447014, 0.4724003 , 0.01775376, 0.10334316,\n        0.28623168, 0.26592093, 0.95149839, 0.25284884, 0.74547607,\n        0.60310708, 0.79599301, 0.86542222, 0.7487034 , 0.85837171],\n       [0.56242638, 0.31969025, 0.24072463, 0.89420605, 0.11752962,\n        0.2458564 , 0.79948086, 0.25380823, 0.28690462, 0.41764856,\n        0.99523651, 0.49114493, 0.0586154 , 0.18510549, 0.29179395,\n        0.48559812, 0.65306466, 0.68750693, 0.90095984, 0.44906393,\n        0.07867684, 0.76633183, 0.24001154, 0.26380188, 0.67508038,\n        0.50768827, 0.19484275, 0.00526599, 0.60462693, 0.3088716 ],\n       [0.79551314, 0.58650031, 0.15459539, 0.09718986, 0.88035783,\n        0.48207731, 0.79733417, 0.80370449, 0.35578829, 0.28892069,\n        0.04426183, 0.88747155, 0.13806898, 0.34083752, 0.55386689,\n        0.91890455, 0.44931041, 0.6504951 , 0.0941392 , 0.28798531,\n        0.89367419, 0.1421937 , 0.91681159, 0.54978687, 0.05575881,\n        0.89275909, 0.60900028, 0.63984309, 0.36050696, 0.31896535],\n       [0.26176402, 0.68783776, 0.02790303, 0.49252779, 0.00178166,\n        0.94986971, 0.83636511, 0.13717968, 0.73373352, 0.47092248,\n        0.96312723, 0.88466394, 0.49621961, 0.05882356, 0.18982607,\n        0.4743593 , 0.0815167 , 0.20310721, 0.27640606, 0.15486143,\n        0.95462268, 0.58016729, 0.31416527, 0.93840596, 0.12927472,\n        0.29260829, 0.81830785, 0.57622979, 0.74056565, 0.22716789],\n       [0.30178609, 0.88241354, 0.2252584 , 0.63020729, 0.12798828,\n        0.37539347, 0.76140728, 0.16159439, 0.01872252, 0.84452638,\n        0.58383727, 0.26117231, 0.2353249 , 0.87803699, 0.37995649,\n        0.12301824, 0.36700433, 0.2069195 , 0.19038376, 0.98529773,\n        0.96468396, 0.42985955, 0.40462831, 0.99596616, 0.90021687,\n        0.73504983, 0.94613088, 0.65070476, 0.47098501, 0.74558223],\n       [0.35378808, 0.79662008, 0.04334584, 0.94645329, 0.95383053,\n        0.52388029, 0.05979316, 0.44038495, 0.1606269 , 0.55984683,\n        0.3211693 , 0.23538094, 0.8330469 , 0.02442305, 0.73943618,\n        0.75860626, 0.96214729, 0.55344673, 0.11293228, 0.64298567,\n        0.71574676, 0.20123775, 0.16081968, 0.92282069, 0.69503432,\n        0.86477844, 0.98628007, 0.55280217, 0.03585753, 0.97610928],\n       [0.40276046, 0.12027081, 0.03225829, 0.85377363, 0.34437606,\n        0.05827976, 0.4417825 , 0.03391591, 0.8551444 , 0.07951437,\n        0.32726402, 0.01780763, 0.08413206, 0.48795214, 0.18809323,\n        0.52025305, 0.62035615, 0.53830477, 0.77796618, 0.98342141,\n        0.19841739, 0.87708187, 0.0635605 , 0.76416896, 0.49332122,\n        0.93590411, 0.59294204, 0.5693468 , 0.77283195, 0.08345669],\n       [0.13864041, 0.04314234, 0.12151383, 0.35899862, 0.46663675,\n        0.63581076, 0.87461838, 0.05404716, 0.67167798, 0.86196541,\n        0.91648454, 0.57276005, 0.13103434, 0.73138701, 0.22408556,\n        0.15061038, 0.33151838, 0.87955664, 0.33777107, 0.82552065,\n        0.57471835, 0.65229537, 0.45087329, 0.96661152, 0.8959181 ,\n        0.79436128, 0.43621422, 0.45722869, 0.04256697, 0.83661111]])"
     },
     "execution_count": 669,
     "metadata": {},
     "output_type": "execute_result"
    },
    {
     "data": {
      "text/plain": "<Figure size 640x480 with 1 Axes>",
      "image/png": "[encoded data removed]"
     },
     "metadata": {},
     "output_type": "display_data"
    }
   ],
   "source": [
    "y=np.random.rand(30,30) #creo un array 2D con valori casuali compresi tra 0 e 1\n",
    "plt.imshow(y) #mostro a schermo l'immagine generata dall'array precedente\n",
    "y"
   ],
   "metadata": {
    "collapsed": false,
    "ExecuteTime": {
     "end_time": "2023-10-21T14:08:48.745182900Z",
     "start_time": "2023-10-21T14:08:48.482348700Z"
    }
   },
   "id": "de5f972e67b2cde8"
  }
 ],
 "metadata": {
  "kernelspec": {
   "display_name": "Python 3",
   "language": "python",
   "name": "python3"
  },
  "language_info": {
   "codemirror_mode": {
    "name": "ipython",
    "version": 2
   },
   "file_extension": ".py",
   "mimetype": "text/x-python",
   "name": "python",
   "nbconvert_exporter": "python",
   "pygments_lexer": "ipython2",
   "version": "2.7.6"
  }
 },
 "nbformat": 4,
 "nbformat_minor": 5
}
